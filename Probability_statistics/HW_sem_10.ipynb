{
 "cells": [
  {
   "cell_type": "markdown",
   "metadata": {},
   "source": [
    "# Теория вероятностей и математическая статистика (семинары)\n",
    "# Урок 10. Дисперсионный анализ"
   ]
  },
  {
   "cell_type": "markdown",
   "metadata": {},
   "source": [
    "## 1. Провести дисперсионный анализ для определения того, есть ли различия среднего роста среди взрослых футболистов, хоккеистов и штангистов. Даны значения роста в трех группах случайно выбранных спортсменов: Футболисты: 173, 175, 180, 178, 177, 185, 183, 182. Хоккеисты: 177, 179, 180, 188, 177, 172, 171, 184, 180. Штангисты: 172, 173, 169, 177, 166, 180, 178, 177, 172, 166, 170. Данная промежуточная аттестация оценивается по системе \"зачет\" / \"не зачет\". \"Зачет\" ставится, если Слушатель успешно выполнил задание. \"Незачет\" ставится, если Слушатель не выполнил задание. Критерии оценивания: 1 - Слушатель провел дисперсионный анализ для определения того, есть ли различия среднего роста среди взрослых футболистов, хоккеистов и штангистов."
   ]
  },
  {
   "cell_type": "code",
   "execution_count": 19,
   "metadata": {},
   "outputs": [
    {
     "name": "stdout",
     "output_type": "stream",
     "text": [
      "n1 = 8 n2 = 9  n3 = 11\n",
      "y1_mean = 179.125 y2_mean = 178.66666666666666 y3_mean = 172.72727272727272 \n",
      "total = [173 175 180 178 177 185 183 182 177 179 180 188 177 172 171 184 180 172\n",
      " 173 169 177 166 180 178 177 172 166 170]\n",
      "total_mean = 176.46428571428572\n"
     ]
    }
   ],
   "source": [
    "import numpy as np\n",
    "from scipy import stats\n",
    "import matplotlib.pyplot as plt\n",
    "\n",
    "y1 = np.array([173, 175, 180, 178, 177, 185, 183, 182])\n",
    "y2 = np.array([177, 179, 180, 188, 177, 172, 171, 184, 180])\n",
    "y3 = np.array([172, 173, 169, 177, 166, 180, 178, 177, 172, 166, 170])\n",
    "\n",
    "n1 = len(y1)\n",
    "n2 = len(y2)\n",
    "n3 = len(y3)\n",
    "\n",
    "k = 3\n",
    "n = n1 + n2 + n3\n",
    "\n",
    "print(f'n1 = {n1} n2 = {n2}  n3 = {n3}')\n",
    "\n",
    "# Среднее значение\n",
    "y1_mean = y1.mean()\n",
    "y2_mean = y2.mean()\n",
    "y3_mean = y3.mean()\n",
    "\n",
    "\n",
    "print(f'y1_mean = {y1_mean} y2_mean = {y2_mean} y3_mean = {y3_mean} ')\n",
    "\n",
    "total = np.concatenate([y1, y2, y3])\n",
    "print(f'total = {total}')\n",
    "\n",
    "total_mean = total.mean()\n",
    "print(f'total_mean = {total_mean}')\n",
    "\n"
   ]
  },
  {
   "cell_type": "code",
   "execution_count": 20,
   "metadata": {},
   "outputs": [
    {
     "name": "stdout",
     "output_type": "stream",
     "text": [
      "S_f = 253.9074675324678   S_ost = 577.0568181818182\n",
      "S_f + S_ost = 830.964285714286\n",
      "S2 = 830.9642857142854\n"
     ]
    }
   ],
   "source": [
    "\n",
    "S_f = n1 * (y1_mean - total_mean) ** 2 + n2 * (y2_mean - total_mean) ** 2 + n3 * (y3_mean - total_mean) ** 2\n",
    "S_ost = ((y1 - y1_mean) ** 2).sum() + ((y2 - y2_mean) ** 2).sum() + ((y3 - y3_mean) ** 2).sum()\n",
    "\n",
    "\n",
    "print(f'S_f = {S_f}   S_ost = {S_ost}')\n",
    "print(f'S_f + S_ost = {S_f + S_ost}')\n",
    "\n",
    "S2 = ((total - total_mean) ** 2).sum()\n",
    "print(f'S2 = {S2}')\n"
   ]
  },
  {
   "cell_type": "code",
   "execution_count": 21,
   "metadata": {},
   "outputs": [
    {
     "name": "stdout",
     "output_type": "stream",
     "text": [
      "D_f = 126.9537337662339  D_ost = 23.08227272727273\n",
      "F_n = 5.500053450812598\n",
      "F_onewayResult(statistic=5.500053450812596, pvalue=0.010482206918698694)\n"
     ]
    }
   ],
   "source": [
    "\n",
    "D_f = S_f / (k - 1)\n",
    "D_ost = S_ost / (n - k)\n",
    "\n",
    "print(f'D_f = {D_f}  D_ost = {D_ost}')\n",
    "\n",
    "F_n = D_f / D_ost\n",
    "\n",
    "print(f'F_n = {F_n}')\n",
    "\n",
    "f = stats.f_oneway(y1, y2, y3)\n",
    "print(f'{f}')\n"
   ]
  },
  {
   "cell_type": "code",
   "execution_count": 22,
   "metadata": {},
   "outputs": [
    {
     "name": "stdout",
     "output_type": "stream",
     "text": [
      "F_c = 3.3851899614491687\n"
     ]
    }
   ],
   "source": [
    "a = 0.05\n",
    "\n",
    "F_c = stats.f.ppf(1 - a, (k - 1), (n - k))\n",
    "\n",
    "print(f'F_c = {F_c}')"
   ]
  },
  {
   "cell_type": "markdown",
   "metadata": {},
   "source": [
    "Давайте проанализируем результат. (F_n = 5.5) > (F_c = 3.385) за счет этих результатов получаем, что отличие среднего роста футболистов, хокеистов и штангистов является статистически значимым."
   ]
  }
 ],
 "metadata": {
  "kernelspec": {
   "display_name": ".folder",
   "language": "python",
   "name": "python3"
  },
  "language_info": {
   "codemirror_mode": {
    "name": "ipython",
    "version": 3
   },
   "file_extension": ".py",
   "mimetype": "text/x-python",
   "name": "python",
   "nbconvert_exporter": "python",
   "pygments_lexer": "ipython3",
   "version": "3.11.3"
  },
  "orig_nbformat": 4
 },
 "nbformat": 4,
 "nbformat_minor": 2
}
