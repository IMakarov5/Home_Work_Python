{
 "cells": [
  {
   "attachments": {},
   "cell_type": "markdown",
   "metadata": {},
   "source": [
    "# Теория вероятностей и математическая статистика (семинары)\n",
    "# Урок 7. Непараметрические тесты"
   ]
  },
  {
   "attachments": {},
   "cell_type": "markdown",
   "metadata": {},
   "source": [
    "1-4 задачи решать с помощью функций, 5ю вручную\n",
    "Выбрать тест и проверить, есть  ли различия между выборками:"
   ]
  },
  {
   "attachments": {},
   "cell_type": "markdown",
   "metadata": {},
   "source": [
    "## 1 )  Даны две  независимые выборки. Не соблюдается условие нормальности\n",
    "x1  380,420, 290\n",
    "y1 140,360,200,900\n",
    "\n",
    "Сделайте вывод по результатам, полученным с помощью функции"
   ]
  },
  {
   "cell_type": "code",
   "execution_count": 15,
   "metadata": {},
   "outputs": [
    {
     "name": "stdout",
     "output_type": "stream",
     "text": [
      "statistic = 8.0, p-value = 0.6285714285714286, a = 0.05 \n",
      "Гипотеза НЕ отвергается.\n"
     ]
    }
   ],
   "source": [
    "import numpy as np\n",
    "import scipy.stats as stats\n",
    "\n",
    "x1 = np.array([380,420, 290])\n",
    "y1 = np.array([140,360,200,900])\n",
    "\n",
    "a=0.05\n",
    "\n",
    "s, p = stats.mannwhitneyu(x1,y1)\n",
    "\n",
    "print(f'statistic = {s}, p-value = {p}, a = 0.05 ')\n",
    "\n",
    "if p > a:\n",
    "    print('Гипотеза НЕ отвергается.')\n",
    "else:\n",
    "    print('Гипотеза отвергается.')"
   ]
  },
  {
   "attachments": {},
   "cell_type": "markdown",
   "metadata": {},
   "source": [
    "## 2 ) Исследовалось влияние препарата на уровень давления пациентов. Сначала измерялось давление до приема препарата, потом через 10 минут и через 30 минут. Есть ли статистически значимые различия?\n",
    "\n",
    "1е измерение до приема препарата: 150, 160, 165, 145, 155\n",
    "2е измерение через 10 минут: 140, 155, 150,  130, 135\n",
    "3е измерение через 30 минут: 130, 130, 120, 130, 125"
   ]
  },
  {
   "cell_type": "code",
   "execution_count": 16,
   "metadata": {},
   "outputs": [
    {
     "name": "stdout",
     "output_type": "stream",
     "text": [
      "statistic = 9.578947368421062, p-value = 0.00831683351100441, a = 0.05 \n",
      "Гипотеза отвергается.\n"
     ]
    }
   ],
   "source": [
    "x1 = np.array([150, 160, 165, 145, 155])\n",
    "x2 = np.array([140, 155, 150,  130, 135])\n",
    "x3 = np.array([130, 130, 120, 130, 125])\n",
    "\n",
    "a=0.05\n",
    "\n",
    "s, p = stats.friedmanchisquare (x1,x2,x3)\n",
    "\n",
    "print(f'statistic = {s}, p-value = {p}, a = 0.05 ')\n",
    "\n",
    "if p > a:\n",
    "    print('Гипотеза НЕ отвергается.')\n",
    "else:\n",
    "    print('Гипотеза отвергается.')"
   ]
  },
  {
   "attachments": {},
   "cell_type": "markdown",
   "metadata": {},
   "source": [
    "## 3 ) Сравните 1 и 2 е измерения, предполагая, что 3го измерения через 30 минут не было.\n"
   ]
  },
  {
   "cell_type": "code",
   "execution_count": 17,
   "metadata": {},
   "outputs": [
    {
     "name": "stdout",
     "output_type": "stream",
     "text": [
      "statistic = 0.0, p-value = 0.0625, a = 0.05 \n",
      "Гипотеза НЕ отвергается.\n"
     ]
    }
   ],
   "source": [
    "x1 = np.array([150, 160, 165, 145, 155])\n",
    "x2 = np.array([140, 155, 150,  130, 135])\n",
    "#x3 = np.array([130, 130, 120, 130, 125])\n",
    "\n",
    "a=0.05\n",
    "\n",
    "s, p = stats.wilcoxon (x1,x2)\n",
    "\n",
    "print(f'statistic = {s}, p-value = {p}, a = 0.05 ')\n",
    "\n",
    "if p > a:\n",
    "    print('Гипотеза НЕ отвергается.')\n",
    "else:\n",
    "    print('Гипотеза отвергается.')"
   ]
  },
  {
   "attachments": {},
   "cell_type": "markdown",
   "metadata": {},
   "source": [
    "## 4) Даны 3 группы  учеников плавания.\n",
    "\n",
    "В 1 группе время на дистанцию 50 м составляют:\n",
    "56, 60, 62, 55, 71, 67, 59, 58, 64, 67\n",
    "\n",
    "Вторая группа : 57, 58, 69, 48, 72, 70, 68, 71, 50, 53\n",
    "Третья группа: 57, 67, 49, 48, 47, 55, 66, 51, 54"
   ]
  },
  {
   "cell_type": "code",
   "execution_count": 18,
   "metadata": {},
   "outputs": [
    {
     "name": "stdout",
     "output_type": "stream",
     "text": [
      "statistic = 5.465564058257224, p-value = 0.0650380998590494, a = 0.05 \n",
      "Гипотеза НЕ отвергается.\n"
     ]
    }
   ],
   "source": [
    "x1 = np.array([56, 60, 62, 55, 71, 67, 59, 58, 64, 67])\n",
    "x2 = np.array([57, 58, 69, 48, 72, 70, 68, 71, 50, 53])\n",
    "x3 = np.array([57, 67, 49, 48, 47, 55, 66, 51, 54])\n",
    "\n",
    "a=0.05\n",
    "\n",
    "s, p = stats.kruskal (x1,x2,x3)\n",
    "\n",
    "print(f'statistic = {s}, p-value = {p}, a = 0.05 ')\n",
    "\n",
    "if p > a:\n",
    "    print('Гипотеза НЕ отвергается.')\n",
    "else:\n",
    "    print('Гипотеза отвергается.')"
   ]
  },
  {
   "attachments": {},
   "cell_type": "markdown",
   "metadata": {},
   "source": [
    "## 5) Заявляется, что партия изготавливается со средним арифметическим 2,5 см. Проверить данную гипотезу, если известно, что размеры изделий подчинены нормальному закону распределения. Объем выборки 10, уровень статистической значимости 5%\n",
    "\n",
    "2.51, 2.35, 2.74, 2.56, 2.40, 2.36, 2.65, 2.7, 2.67, 2.34"
   ]
  },
  {
   "cell_type": "code",
   "execution_count": 19,
   "metadata": {},
   "outputs": [
    {
     "name": "stdout",
     "output_type": "stream",
     "text": [
      "t-статистика = 0.5630613661802959\n",
      "t-критическо = 1.8331129326536335\n",
      "Гипотеза НЕ отвергается.\n"
     ]
    }
   ],
   "source": [
    "x = [2.51, 2.35, 2.74, 2.56, 2.40, 2.36, 2.65, 2.7, 2.67, 2.34]\n",
    "\n",
    "a=0.05\n",
    "\n",
    "n = len(x)\n",
    "\n",
    "mean = np.mean(x)\n",
    "\n",
    "std = np.std(x, ddof=1)\n",
    "\n",
    "tst = (mean - 2.5) / (std / n**0.5)\n",
    "\n",
    "tcr = stats.t.ppf((1 - a), (n-1))\n",
    "\n",
    "print(f't-статистика = {tst}')\n",
    "print(f't-критическо = {tcr}')\n",
    "\n",
    "if tst < tcr:\n",
    "    print('Гипотеза НЕ отвергается.')\n",
    "else:\n",
    "    print('Гипотеза отвергается.')\n"
   ]
  }
 ],
 "metadata": {
  "kernelspec": {
   "display_name": ".folder",
   "language": "python",
   "name": "python3"
  },
  "language_info": {
   "codemirror_mode": {
    "name": "ipython",
    "version": 3
   },
   "file_extension": ".py",
   "mimetype": "text/x-python",
   "name": "python",
   "nbconvert_exporter": "python",
   "pygments_lexer": "ipython3",
   "version": "3.11.3"
  },
  "orig_nbformat": 4
 },
 "nbformat": 4,
 "nbformat_minor": 2
}
