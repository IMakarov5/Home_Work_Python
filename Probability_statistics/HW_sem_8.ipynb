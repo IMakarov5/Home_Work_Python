{
 "cells": [
  {
   "attachments": {},
   "cell_type": "markdown",
   "metadata": {},
   "source": [
    "# Теория вероятностей и математическая статистика (семинары)\n",
    "# Урок 8. Корреляционный анализ"
   ]
  },
  {
   "attachments": {},
   "cell_type": "markdown",
   "metadata": {},
   "source": [
    "## 1. Даны значения величины заработной платы заемщиков банка (zp) и значения их поведенческого кредитного скоринга (ks): zp = [35, 45, 190, 200, 40, 70, 54, 150, 120, 110], ks = [401, 574, 874, 919, 459, 739, 653, 902, 746, 832]. Найдите ковариацию этих двух величин с помощью элементарных действий, а затем с помощью функции cov из numpy Полученные значения должны быть равны. Найдите коэффициент корреляции Пирсона с помощью ковариации и среднеквадратичных отклонений двух признаков, а затем с использованием функций из библиотек numpy и pandas."
   ]
  },
  {
   "cell_type": "code",
   "execution_count": 18,
   "metadata": {},
   "outputs": [
    {
     "data": {
      "image/png": "[encoded data removed]",
      "text/plain": [
       "<Figure size 640x480 with 1 Axes>"
      ]
     },
     "metadata": {},
     "output_type": "display_data"
    }
   ],
   "source": [
    "import numpy as np\n",
    "import pandas as pd\n",
    "from scipy import stats\n",
    "import matplotlib.pyplot as plt\n",
    "\n",
    "zp = np.array([35, 45, 190, 200, 40, 70, 54, 150, 120, 110])\n",
    "ks = np.array([401, 574, 874, 919, 459, 739, 653, 902, 746, 832])\n",
    "\n",
    "# Найдите ковариацию этих двух величин с помощью элементарных действий\n",
    "# Построим график\n",
    "\n",
    "plt.scatter(zp,ks)\n",
    "plt.xlabel('Заработная плата заемщиков банка \"ZP\"')\n",
    "plt.ylabel('Поведенческий кред. скоринг \"KS\"', rotation=90)\n",
    "plt.show()"
   ]
  },
  {
   "attachments": {},
   "cell_type": "markdown",
   "metadata": {},
   "source": [
    "Зависимость линейная.\n",
    "\n",
    "Ковариация – это величина, определяющая зависимость  двух случайных величин.\n",
    "\n",
    "Найти ее можно по формуле:\n",
    "cov(xy) = M (XY) - M (X) * M(Y)\n",
    "\n",
    "где М -  математическое ожидание"
   ]
  },
  {
   "cell_type": "code",
   "execution_count": 19,
   "metadata": {},
   "outputs": [
    {
     "name": "stdout",
     "output_type": "stream",
     "text": [
      "Ковариация расчетная: 9157.839999999997\n",
      "Ковариация из numpy: 9157.84\n",
      "Коэффициент корреляции Пирсона (с помощью ковариации) 0.8874900920739158\n",
      "Коэффициент корреляции Пирсона (с помощью среднеквадратичных отклонений двух признаков) 0.8874900920739158\n",
      "Коэффициент корреляции Пирсона (функций из библиотек numpy) 0.8874900920739162\n",
      "Коэффициент корреляции Пирсона (функций из библиотек pandas) 0.8874900920739162\n"
     ]
    }
   ],
   "source": [
    "cov = np.mean(zp*ks) - np.mean(zp) * np.mean(ks)\n",
    "print(f'Ковариация расчетная: {cov}') \n",
    "\n",
    "cov_np = np.cov(zp, ks, ddof=0)[0][1]\n",
    "print(f'Ковариация из numpy: {cov_np}') \n",
    "\n",
    "corr = cov / (np.std(zp) * np.std(ks))\n",
    "print(f'Коэффициент корреляции Пирсона (с помощью ковариации) {corr}')\n",
    "\n",
    "corrСorrcoef = cov / (np.std(zp, ddof=0) * np.std(ks, ddof=0))\n",
    "print(f'Коэффициент корреляции Пирсона (с помощью среднеквадратичных отклонений двух признаков) {corrСorrcoef }')\n",
    "\n",
    "corrNp = np.corrcoef(zp, ks)[0][1]\n",
    "print(f'Коэффициент корреляции Пирсона (функций из библиотек numpy) {corrNp}')\n",
    "\n",
    "\n",
    "corrPd = pd.Series(zp).corr(pd.Series(ks), method='pearson')\n",
    "print(f'Коэффициент корреляции Пирсона (функций из библиотек pandas) {corrPd}')\n"
   ]
  },
  {
   "attachments": {},
   "cell_type": "markdown",
   "metadata": {},
   "source": [
    "## 2. Измерены значения IQ выборки студентов, обучающихся в местных технических вузах: 131, 125, 115, 122, 131, 115, 107, 99, 125, 111. Известно, что в генеральной совокупности IQ распределен нормально. Найдите доверительный интервал для математического ожидания с надежностью 0.95."
   ]
  },
  {
   "cell_type": "code",
   "execution_count": 26,
   "metadata": {},
   "outputs": [
    {
     "name": "stdout",
     "output_type": "stream",
     "text": [
      "Доверительный интервал: [110.55608365158724, 125.64391634841274]\n"
     ]
    }
   ],
   "source": [
    "x = np.array([131, 125, 115, 122, 131, 115, 107, 99, 125, 111])\n",
    "\n",
    "a=0.05\n",
    "\n",
    "n = len(x)\n",
    "\n",
    "mean = np.mean(x)\n",
    "\n",
    "std = np.std(x, ddof=1)\n",
    "\n",
    "z = stats.t.ppf((1 - a/2), (n-1))\n",
    "\n",
    "D = z * std / (n ** 0.5)\n",
    "\n",
    "a = mean - D\n",
    "b = mean + D\n",
    "\n",
    "print(f'Доверительный интервал: [{a}, {b}]')\n",
    "\n"
   ]
  },
  {
   "attachments": {},
   "cell_type": "markdown",
   "metadata": {},
   "source": [
    "## 3. Известно, что рост футболистов в сборной распределен нормально с дисперсией генеральной совокупности, равной 25 кв.см. Объем выборки равен 27, среднее выборочное составляет 174.2. Найдите доверительный интервал для математического ожидания с надежностью 0.95."
   ]
  },
  {
   "cell_type": "code",
   "execution_count": 27,
   "metadata": {},
   "outputs": [
    {
     "name": "stdout",
     "output_type": "stream",
     "text": [
      "Доверительный интервал: [172.2220658754539, 176.17793412454608]\n"
     ]
    }
   ],
   "source": [
    "var = 25\n",
    "n = 27\n",
    "mean = 174.2\n",
    "\n",
    "a = 0.05\n",
    "\n",
    "std = (var)**0.5\n",
    "\n",
    "z = stats.t.ppf((1 - a/2), (n-1))\n",
    "\n",
    "D = z * std / (n ** 0.5)\n",
    "\n",
    "a = mean - D\n",
    "b = mean + D\n",
    "\n",
    "print(f'Доверительный интервал: [{a}, {b}]')"
   ]
  }
 ],
 "metadata": {
  "kernelspec": {
   "display_name": ".folder",
   "language": "python",
   "name": "python3"
  },
  "language_info": {
   "codemirror_mode": {
    "name": "ipython",
    "version": 3
   },
   "file_extension": ".py",
   "mimetype": "text/x-python",
   "name": "python",
   "nbconvert_exporter": "python",
   "pygments_lexer": "ipython3",
   "version": "3.11.3"
  },
  "orig_nbformat": 4
 },
 "nbformat": 4,
 "nbformat_minor": 2
}
